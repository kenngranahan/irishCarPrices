{
 "cells": [
  {
   "cell_type": "code",
   "execution_count": 1,
   "id": "b69505d9",
   "metadata": {},
   "outputs": [],
   "source": [
    "import pandas as pd\n",
    "import numpy as np\n",
    "import seaborn as sns\n",
    "from math import log\n",
    "from datetime import date\n",
    "from matplotlib import pyplot as plt\n",
    "carData = pd.read_csv('cleandata.csv')\n",
    "carData = carData[~carData['price'].isna()]\n",
    "carData['log_price'] = carData['price'].apply(lambda price:log(price))\n",
    "carData['age'] = (date.today().year - carData['vehicle_year'])\n",
    "\n",
    "#Cars older than 25 years are assumed to be sold for scrap metal or are vintage cars.\n",
    "#Neither of these categories meet the scope of the project, so remove them\n",
    "carData = carData[carData['age']<25]\n",
    "\n",
    "carData['owners_is_null'] = carData['owners'].isna()\n",
    "carData['nct_is_null'] = carData['nct_year'].isna()\n",
    "carData['mileage_is_0'] = carData['mileage']==0"
   ]
  },
  {
   "cell_type": "code",
   "execution_count": 2,
   "id": "f3e580ed",
   "metadata": {},
   "outputs": [],
   "source": [
    "catFeatures = ['county', 'make', 'model','transmission', 'body', 'fuel','color']\n",
    "numFeatures = ['age', 'mileage', 'engine', 'mpg', 'owners']"
   ]
  },
  {
   "cell_type": "code",
   "execution_count": 3,
   "id": "55550d04",
   "metadata": {},
   "outputs": [],
   "source": [
    "carData['make_and_model'] = carData['make']+'_'+carData['model']"
   ]
  },
  {
   "cell_type": "code",
   "execution_count": 5,
   "id": "2bd4f88a",
   "metadata": {},
   "outputs": [],
   "source": [
    "\n",
    "CFG = {\n",
    "       'csv': True,\n",
    "       'inputCsv': 'cleandata.csv',\n",
    "       'outputPath': 'Models',\n",
    "       'notes': 'Alpha range 100. Try removing tax',\n",
    "       'valuationDate': '2022-09-07',\n",
    "       'numFeatures': ['age', 'mileage', 'engine', 'mpg', 'owners'],\n",
    "       'catFeatures': [],\n",
    "       #'catFeatures': ['transmission', 'body', 'fuel','color'],\n",
    "       'target': 'price',\n",
    "       'annual_mileage': 17000,\n",
    "       \n",
    "       'fillna_method': 'median',\n",
    "       \n",
    "       \n",
    "       'test_size': 0.3,\n",
    "       \n",
    "       #OneHot Encoder Parameters\n",
    "       'enc_drop': 'first',\n",
    "       'enc_sparse': False,\n",
    "       'enc_handle_unknown': 'ignore',\n",
    "       \n",
    "       #PCA Parameters\n",
    "       'n_components': 0.95,\n",
    "       \n",
    "       #Threshold for low variance features\n",
    "       'variance_threshold': 0,\n",
    "       \n",
    "       #GridSearchCV Parameters\n",
    "       'estimator': 'ElasticNet',\n",
    "       'param_grid': {'alpha': [x for x in range(1, 100)],\n",
    "                      'l1_ratio': [x/10 for x in range(1,10)]},\n",
    "       'scoring': 'neg_mean_squared_error',\n",
    "       'refit': True,\n",
    "       'cv': 5,\n",
    "       'verbose':0,\n",
    "       'return_train_score': True,\n",
    "       'output_coef': False,\n",
    "       'seed': 1023\n",
    "       }\n",
    "\n",
    "\n",
    "\n",
    "def fillna(carData, CFG):\n",
    "    \"\"\"\n",
    "    fill NA values in carData before data processing\n",
    "    \"\"\"\n",
    "    medianModelData = carData.groupby(by='model')[CFG['numFeatures']].median()\n",
    "    medianMakeData = carData.groupby(by='make')[CFG['numFeatures']].median()\n",
    "    medianData = carData[CFG['numFeatures']].median()\n",
    "    \n",
    "    carData=carData.merge(medianModelData[CFG['numFeatures']], how='left', left_on='make', right_index=True)\n",
    "    for feature in CFG['numFeatures']:\n",
    "        carData[feature] =  carData[feature+'_x'].fillna(carData[feature+'_y'])\n",
    "        carData.drop(labels = [feature+'_x', feature+'_y'], axis=1, inplace=True)\n",
    "        \n",
    "    carData=carData.merge(medianMakeData[CFG['numFeatures']], how='left', left_on='make', right_index=True)\n",
    "    for feature in CFG['numFeatures']:\n",
    "        carData[feature] =  carData[feature+'_x'].fillna(carData[feature+'_y'])\n",
    "        carData.drop(labels = [feature+'_x', feature+'_y'], axis=1, inplace=True)    \n",
    "        \n",
    "    carData.fillna(medianData, inplace=True)\n",
    "    \n",
    "    return carData\n",
    "\n",
    "\n",
    "def getMakeData(X, Y, make, carModel, CFG):\n",
    "    make_X= X[(X['model']==carModel)  & (X['make']==make)]\n",
    "    make_X = make_X[CFG['numFeatures']]\n",
    "    make_Y = Y[make_X.index]\n",
    "    return make_X, make_Y"
   ]
  },
  {
   "cell_type": "code",
   "execution_count": 88,
   "id": "cdf056f6",
   "metadata": {},
   "outputs": [],
   "source": [
    "from sklearn.model_selection import train_test_split\n",
    "from sklearn.preprocessing import StandardScaler\n",
    "\n",
    "\n",
    "carData = fillna(carData=carData, CFG=CFG)\n",
    "\n",
    "stats = {}\n",
    "for idx in range(0, 100):\n",
    "    X_train, X_test, Y_train, Y_test = train_test_split(carData,\n",
    "                                                        carData['log_price'],\n",
    "                                                        test_size=0.3,\n",
    "                                                        stratify=carData['make_and_model'])\n",
    "    \n",
    "    for make_and_model in carData['make_and_model'].unique():\n",
    "        make = carData[carData['make_and_model']==make_and_model]['make'].max()\n",
    "        carModel = carData[carData['make_and_model']==make_and_model]['model'].max()\n",
    "        \n",
    "        scalar = StandardScaler()\n",
    "\n",
    "        X_make, Y_make = getMakeData(X_train, Y_train, make=make, carModel=carModel, CFG=CFG)\n",
    "        X_make = scalar.fit_transform(X_make)\n",
    "        \n",
    "        for idx1,feature in enumerate(CFG['numFeatures']):\n",
    "            \n",
    "            stat = {}\n",
    "            \n",
    "            stat['scale'] = scalar.scale_[idx1]\n",
    "            stat['mean'] = scalar.mean_[idx1]\n",
    "            stat['feature'] = feature\n",
    "            stat['make'] = make\n",
    "            stat['model'] = carModel\n",
    "            stat['round'] = idx\n",
    "            stat['make_and_model'] = make_and_model\n",
    "        \n",
    "            stats[make_and_model+'_'+feature+'_'+str(idx)] = stat\n",
    "        \n",
    "    "
   ]
  },
  {
   "cell_type": "code",
   "execution_count": null,
   "id": "04734f26",
   "metadata": {},
   "outputs": [],
   "source": [
    "# The distribution of car prices appears to have a log normal distribution.\n",
    "# Applying the log function to our target values before fitting should help with convergence"
   ]
  },
  {
   "cell_type": "code",
   "execution_count": 22,
   "id": "d230388a",
   "metadata": {},
   "outputs": [
    {
     "data": {
      "text/plain": [
       "<seaborn.axisgrid.FacetGrid at 0x26756eb7fa0>"
      ]
     },
     "execution_count": 22,
     "metadata": {},
     "output_type": "execute_result"
    },
    {
     "data": {
      "image/png": "[encoded data removed]",
      "text/plain": [
       "<Figure size 431.125x360 with 1 Axes>"
      ]
     },
     "metadata": {
      "needs_background": "light"
     },
     "output_type": "display_data"
    }
   ],
   "source": [
    "# LogNormal Dist\n",
    "sns.displot(data=carData[carData['car_age']>1], x ='mileage', hue='vehicle_year')"
   ]
  },
  {
   "cell_type": "code",
   "execution_count": 3,
   "id": "239e8a85",
   "metadata": {},
   "outputs": [
    {
     "data": {
      "text/plain": [
       "<seaborn.axisgrid.FacetGrid at 0x1994fc6a550>"
      ]
     },
     "execution_count": 3,
     "metadata": {},
     "output_type": "execute_result"
    },
    {
     "data": {
      "image/png": "[encoded data removed]",
      "text/plain": [
       "<Figure size 360x360 with 1 Axes>"
      ]
     },
     "metadata": {
      "needs_background": "light"
     },
     "output_type": "display_data"
    }
   ],
   "source": [
    "# Normal dist after apply log function\n",
    "sns.displot(data=carData[carData['model']=='Golf']['price'].apply(lambda price:log(price)))"
   ]
  },
  {
   "cell_type": "code",
   "execution_count": 4,
   "id": "1093fdc5",
   "metadata": {},
   "outputs": [
    {
     "data": {
      "text/plain": [
       "<seaborn.axisgrid.FacetGrid at 0x2674f7235e0>"
      ]
     },
     "execution_count": 4,
     "metadata": {},
     "output_type": "execute_result"
    },
    {
     "data": {
      "image/png": "[encoded data removed]",
      "text/plain": [
       "<Figure size 360x360 with 1 Axes>"
      ]
     },
     "metadata": {
      "needs_background": "light"
     },
     "output_type": "display_data"
    }
   ],
   "source": [
    "sns.displot(data=carData[carData['model']=='Golf']['mileage'])"
   ]
  },
  {
   "cell_type": "code",
   "execution_count": 18,
   "id": "5c08d894",
   "metadata": {},
   "outputs": [
    {
     "data": {
      "text/plain": [
       "<seaborn.axisgrid.FacetGrid at 0x26756e0d430>"
      ]
     },
     "execution_count": 18,
     "metadata": {},
     "output_type": "execute_result"
    },
    {
     "data": {
      "image/png": "[encoded data removed]",
      "text/plain": [
       "<Figure size 360x360 with 1 Axes>"
      ]
     },
     "metadata": {
      "needs_background": "light"
     },
     "output_type": "display_data"
    }
   ],
   "source": [
    "sns.displot(data=carData[carData['car_age']>5]['mileage'])"
   ]
  },
  {
   "cell_type": "code",
   "execution_count": null,
   "id": "25996be3",
   "metadata": {},
   "outputs": [],
   "source": [
    "#Owners can be null either because the vehicle is new OR the seller hasn't listed it\n",
    "#Mileage can be 0 either because the vehicle is new OR the seller is lying\n",
    "#We can try to separate these categories using cluster analysis"
   ]
  },
  {
   "cell_type": "code",
   "execution_count": 12,
   "id": "6d69dfda",
   "metadata": {},
   "outputs": [
    {
     "data": {
      "text/plain": [
       "<seaborn.axisgrid.FacetGrid at 0x199580aaf70>"
      ]
     },
     "execution_count": 12,
     "metadata": {},
     "output_type": "execute_result"
    },
    {
     "data": {
      "image/png": "[encoded data removed]",
      "text/plain": [
       "<Figure size 360x360 with 1 Axes>"
      ]
     },
     "metadata": {
      "needs_background": "light"
     },
     "output_type": "display_data"
    }
   ],
   "source": [
    "sns.displot(data=carData[carData['model']=='Golf'], x='vehicle_year', y='log_price')"
   ]
  },
  {
   "cell_type": "code",
   "execution_count": 4,
   "id": "53b81a4e",
   "metadata": {},
   "outputs": [],
   "source": [
    "carData[(carData['make']=='Fiat') & (carData['model']=='500')].to_csv('Fiat500.csv')"
   ]
  },
  {
   "cell_type": "code",
   "execution_count": 108,
   "id": "f285365a",
   "metadata": {
    "scrolled": true
   },
   "outputs": [],
   "source": [
    "carData[(carData['make']=='Seat') & (carData['model']=='Leon')].to_csv('seat.csv')"
   ]
  },
  {
   "cell_type": "code",
   "execution_count": 168,
   "id": "8e93ee8c",
   "metadata": {},
   "outputs": [
    {
     "data": {
      "text/html": [
       "<div>\n",
       "<style scoped>\n",
       "    .dataframe tbody tr th:only-of-type {\n",
       "        vertical-align: middle;\n",
       "    }\n",
       "\n",
       "    .dataframe tbody tr th {\n",
       "        vertical-align: top;\n",
       "    }\n",
       "\n",
       "    .dataframe thead th {\n",
       "        text-align: right;\n",
       "    }\n",
       "</style>\n",
       "<table border=\"1\" class=\"dataframe\">\n",
       "  <thead>\n",
       "    <tr style=\"text-align: right;\">\n",
       "      <th></th>\n",
       "      <th>dealer</th>\n",
       "      <th>county</th>\n",
       "      <th>make</th>\n",
       "      <th>model</th>\n",
       "      <th>vehicle_year</th>\n",
       "      <th>mileage</th>\n",
       "      <th>last_updated</th>\n",
       "      <th>price</th>\n",
       "      <th>transmission</th>\n",
       "      <th>engine</th>\n",
       "      <th>...</th>\n",
       "      <th>download_date</th>\n",
       "      <th>page_id</th>\n",
       "      <th>log_price</th>\n",
       "      <th>age</th>\n",
       "      <th>owners_is_null</th>\n",
       "      <th>nct_is_null</th>\n",
       "      <th>mileage_is_0</th>\n",
       "      <th>make_and_model</th>\n",
       "      <th>mile_per_year</th>\n",
       "      <th>tag</th>\n",
       "    </tr>\n",
       "  </thead>\n",
       "  <tbody>\n",
       "    <tr>\n",
       "      <th>15709</th>\n",
       "      <td>Listowel autos ltd</td>\n",
       "      <td>Kerry</td>\n",
       "      <td>Nissan</td>\n",
       "      <td>Micra</td>\n",
       "      <td>2015.0</td>\n",
       "      <td>4675.0</td>\n",
       "      <td>in 51 minutes</td>\n",
       "      <td>9950.0</td>\n",
       "      <td>Automatic</td>\n",
       "      <td>1.2</td>\n",
       "      <td>...</td>\n",
       "      <td>2022-09-07</td>\n",
       "      <td>3166966</td>\n",
       "      <td>9.205328</td>\n",
       "      <td>7.0</td>\n",
       "      <td>True</td>\n",
       "      <td>True</td>\n",
       "      <td>False</td>\n",
       "      <td>Nissan_Micra</td>\n",
       "      <td>584.375</td>\n",
       "      <td>0.0</td>\n",
       "    </tr>\n",
       "    <tr>\n",
       "      <th>15579</th>\n",
       "      <td>Great island motors</td>\n",
       "      <td>Cork</td>\n",
       "      <td>Toyota</td>\n",
       "      <td>Yaris</td>\n",
       "      <td>2015.0</td>\n",
       "      <td>3350.0</td>\n",
       "      <td>12 days ago</td>\n",
       "      <td>11950.0</td>\n",
       "      <td>Automatic</td>\n",
       "      <td>1.0</td>\n",
       "      <td>...</td>\n",
       "      <td>2022-09-07</td>\n",
       "      <td>3166758</td>\n",
       "      <td>9.388487</td>\n",
       "      <td>7.0</td>\n",
       "      <td>False</td>\n",
       "      <td>False</td>\n",
       "      <td>False</td>\n",
       "      <td>Toyota_Yaris</td>\n",
       "      <td>418.750</td>\n",
       "      <td>2.0</td>\n",
       "    </tr>\n",
       "    <tr>\n",
       "      <th>3720</th>\n",
       "      <td>Midleton motorstore</td>\n",
       "      <td>Cork</td>\n",
       "      <td>Audi</td>\n",
       "      <td>A3</td>\n",
       "      <td>2015.0</td>\n",
       "      <td>0.0</td>\n",
       "      <td>1 month ago</td>\n",
       "      <td>16900.0</td>\n",
       "      <td>Manual</td>\n",
       "      <td>1.6</td>\n",
       "      <td>...</td>\n",
       "      <td>2022-09-01</td>\n",
       "      <td>3107071</td>\n",
       "      <td>9.735069</td>\n",
       "      <td>7.0</td>\n",
       "      <td>False</td>\n",
       "      <td>False</td>\n",
       "      <td>True</td>\n",
       "      <td>Audi_A3</td>\n",
       "      <td>0.000</td>\n",
       "      <td>2.0</td>\n",
       "    </tr>\n",
       "    <tr>\n",
       "      <th>4323</th>\n",
       "      <td>O&amp;#039;connell automotive</td>\n",
       "      <td>Dublin</td>\n",
       "      <td>Mercedes-benz</td>\n",
       "      <td>CLA Class</td>\n",
       "      <td>2015.0</td>\n",
       "      <td>0.0</td>\n",
       "      <td>2 months ago</td>\n",
       "      <td>19999.0</td>\n",
       "      <td>Automatic</td>\n",
       "      <td>2.1</td>\n",
       "      <td>...</td>\n",
       "      <td>2022-09-01</td>\n",
       "      <td>3110429</td>\n",
       "      <td>9.903438</td>\n",
       "      <td>7.0</td>\n",
       "      <td>False</td>\n",
       "      <td>False</td>\n",
       "      <td>True</td>\n",
       "      <td>Mercedes-benz_CLA Class</td>\n",
       "      <td>0.000</td>\n",
       "      <td>0.0</td>\n",
       "    </tr>\n",
       "    <tr>\n",
       "      <th>7749</th>\n",
       "      <td>Kearys hyundai midleton</td>\n",
       "      <td>Cork</td>\n",
       "      <td>Suzuki</td>\n",
       "      <td>Vitara</td>\n",
       "      <td>2015.0</td>\n",
       "      <td>0.0</td>\n",
       "      <td>28 days ago</td>\n",
       "      <td>15995.0</td>\n",
       "      <td>Manual</td>\n",
       "      <td>1.6</td>\n",
       "      <td>...</td>\n",
       "      <td>2022-09-07</td>\n",
       "      <td>3150620</td>\n",
       "      <td>9.680031</td>\n",
       "      <td>7.0</td>\n",
       "      <td>False</td>\n",
       "      <td>False</td>\n",
       "      <td>True</td>\n",
       "      <td>Suzuki_Vitara</td>\n",
       "      <td>0.000</td>\n",
       "      <td>2.0</td>\n",
       "    </tr>\n",
       "    <tr>\n",
       "      <th>13099</th>\n",
       "      <td>Ferrybank motors</td>\n",
       "      <td>Wexford</td>\n",
       "      <td>Ford</td>\n",
       "      <td>Focus</td>\n",
       "      <td>2015.0</td>\n",
       "      <td>0.0</td>\n",
       "      <td>2 days ago</td>\n",
       "      <td>14950.0</td>\n",
       "      <td>Manual</td>\n",
       "      <td>1.6</td>\n",
       "      <td>...</td>\n",
       "      <td>2022-09-07</td>\n",
       "      <td>3162192</td>\n",
       "      <td>9.612467</td>\n",
       "      <td>7.0</td>\n",
       "      <td>False</td>\n",
       "      <td>False</td>\n",
       "      <td>True</td>\n",
       "      <td>Ford_Focus</td>\n",
       "      <td>0.000</td>\n",
       "      <td>2.0</td>\n",
       "    </tr>\n",
       "    <tr>\n",
       "      <th>14441</th>\n",
       "      <td>Herron auto</td>\n",
       "      <td>Donegal</td>\n",
       "      <td>Opel</td>\n",
       "      <td>Astra</td>\n",
       "      <td>2015.0</td>\n",
       "      <td>0.0</td>\n",
       "      <td>14 days ago</td>\n",
       "      <td>12900.0</td>\n",
       "      <td>Manual</td>\n",
       "      <td>1.4</td>\n",
       "      <td>...</td>\n",
       "      <td>2022-09-07</td>\n",
       "      <td>3164782</td>\n",
       "      <td>9.464983</td>\n",
       "      <td>7.0</td>\n",
       "      <td>False</td>\n",
       "      <td>False</td>\n",
       "      <td>True</td>\n",
       "      <td>Opel_Astra</td>\n",
       "      <td>0.000</td>\n",
       "      <td>0.0</td>\n",
       "    </tr>\n",
       "    <tr>\n",
       "      <th>14442</th>\n",
       "      <td>Herron auto</td>\n",
       "      <td>Donegal</td>\n",
       "      <td>Kia</td>\n",
       "      <td>Sportage</td>\n",
       "      <td>2015.0</td>\n",
       "      <td>0.0</td>\n",
       "      <td>14 days ago</td>\n",
       "      <td>16900.0</td>\n",
       "      <td>Manual</td>\n",
       "      <td>1.7</td>\n",
       "      <td>...</td>\n",
       "      <td>2022-09-07</td>\n",
       "      <td>3164783</td>\n",
       "      <td>9.735069</td>\n",
       "      <td>7.0</td>\n",
       "      <td>False</td>\n",
       "      <td>False</td>\n",
       "      <td>True</td>\n",
       "      <td>Kia_Sportage</td>\n",
       "      <td>0.000</td>\n",
       "      <td>0.0</td>\n",
       "    </tr>\n",
       "    <tr>\n",
       "      <th>14882</th>\n",
       "      <td>Lyons of limerick</td>\n",
       "      <td>Limerick</td>\n",
       "      <td>Land</td>\n",
       "      <td>ROVER Discovery Sport</td>\n",
       "      <td>2015.0</td>\n",
       "      <td>0.0</td>\n",
       "      <td>12 days ago</td>\n",
       "      <td>27000.0</td>\n",
       "      <td>Manual</td>\n",
       "      <td>2.2</td>\n",
       "      <td>...</td>\n",
       "      <td>2022-09-07</td>\n",
       "      <td>3165517</td>\n",
       "      <td>10.203592</td>\n",
       "      <td>7.0</td>\n",
       "      <td>False</td>\n",
       "      <td>False</td>\n",
       "      <td>True</td>\n",
       "      <td>Land_ROVER Discovery Sport</td>\n",
       "      <td>0.000</td>\n",
       "      <td>2.0</td>\n",
       "    </tr>\n",
       "    <tr>\n",
       "      <th>15153</th>\n",
       "      <td>Herron auto</td>\n",
       "      <td>Donegal</td>\n",
       "      <td>Toyota</td>\n",
       "      <td>Avensis</td>\n",
       "      <td>2015.0</td>\n",
       "      <td>0.0</td>\n",
       "      <td>12 days ago</td>\n",
       "      <td>13900.0</td>\n",
       "      <td>Manual</td>\n",
       "      <td>2.0</td>\n",
       "      <td>...</td>\n",
       "      <td>2022-09-07</td>\n",
       "      <td>3165978</td>\n",
       "      <td>9.539644</td>\n",
       "      <td>7.0</td>\n",
       "      <td>False</td>\n",
       "      <td>False</td>\n",
       "      <td>True</td>\n",
       "      <td>Toyota_Avensis</td>\n",
       "      <td>0.000</td>\n",
       "      <td>2.0</td>\n",
       "    </tr>\n",
       "    <tr>\n",
       "      <th>16449</th>\n",
       "      <td>Blackwater motors cork</td>\n",
       "      <td>Cork</td>\n",
       "      <td>Volkswagen</td>\n",
       "      <td>Golf</td>\n",
       "      <td>2015.0</td>\n",
       "      <td>0.0</td>\n",
       "      <td>10 days ago</td>\n",
       "      <td>15995.0</td>\n",
       "      <td>Manual</td>\n",
       "      <td>1.2</td>\n",
       "      <td>...</td>\n",
       "      <td>2022-09-07</td>\n",
       "      <td>3168125</td>\n",
       "      <td>9.680031</td>\n",
       "      <td>7.0</td>\n",
       "      <td>False</td>\n",
       "      <td>False</td>\n",
       "      <td>True</td>\n",
       "      <td>Volkswagen_Golf</td>\n",
       "      <td>0.000</td>\n",
       "      <td>0.0</td>\n",
       "    </tr>\n",
       "  </tbody>\n",
       "</table>\n",
       "<p>11 rows × 29 columns</p>\n",
       "</div>"
      ],
      "text/plain": [
       "                          dealer    county           make  \\\n",
       "15709         Listowel autos ltd     Kerry         Nissan   \n",
       "15579        Great island motors      Cork         Toyota   \n",
       "3720         Midleton motorstore      Cork           Audi   \n",
       "4323   O&#039;connell automotive    Dublin  Mercedes-benz   \n",
       "7749     Kearys hyundai midleton      Cork         Suzuki   \n",
       "13099           Ferrybank motors   Wexford           Ford   \n",
       "14441                Herron auto   Donegal           Opel   \n",
       "14442                Herron auto   Donegal            Kia   \n",
       "14882          Lyons of limerick  Limerick           Land   \n",
       "15153                Herron auto   Donegal         Toyota   \n",
       "16449     Blackwater motors cork      Cork     Volkswagen   \n",
       "\n",
       "                       model  vehicle_year  mileage    last_updated    price  \\\n",
       "15709                  Micra        2015.0   4675.0   in 51 minutes   9950.0   \n",
       "15579                  Yaris        2015.0   3350.0     12 days ago  11950.0   \n",
       "3720                      A3        2015.0      0.0     1 month ago  16900.0   \n",
       "4323               CLA Class        2015.0      0.0    2 months ago  19999.0   \n",
       "7749                  Vitara        2015.0      0.0     28 days ago  15995.0   \n",
       "13099                  Focus        2015.0      0.0      2 days ago  14950.0   \n",
       "14441                  Astra        2015.0      0.0     14 days ago  12900.0   \n",
       "14442               Sportage        2015.0      0.0     14 days ago  16900.0   \n",
       "14882  ROVER Discovery Sport        2015.0      0.0     12 days ago  27000.0   \n",
       "15153                Avensis        2015.0      0.0     12 days ago  13900.0   \n",
       "16449                   Golf        2015.0      0.0     10 days ago  15995.0   \n",
       "\n",
       "      transmission  engine  ... download_date  page_id  log_price  age  \\\n",
       "15709    Automatic     1.2  ...    2022-09-07  3166966   9.205328  7.0   \n",
       "15579    Automatic     1.0  ...    2022-09-07  3166758   9.388487  7.0   \n",
       "3720        Manual     1.6  ...    2022-09-01  3107071   9.735069  7.0   \n",
       "4323     Automatic     2.1  ...    2022-09-01  3110429   9.903438  7.0   \n",
       "7749        Manual     1.6  ...    2022-09-07  3150620   9.680031  7.0   \n",
       "13099       Manual     1.6  ...    2022-09-07  3162192   9.612467  7.0   \n",
       "14441       Manual     1.4  ...    2022-09-07  3164782   9.464983  7.0   \n",
       "14442       Manual     1.7  ...    2022-09-07  3164783   9.735069  7.0   \n",
       "14882       Manual     2.2  ...    2022-09-07  3165517  10.203592  7.0   \n",
       "15153       Manual     2.0  ...    2022-09-07  3165978   9.539644  7.0   \n",
       "16449       Manual     1.2  ...    2022-09-07  3168125   9.680031  7.0   \n",
       "\n",
       "       owners_is_null nct_is_null  mileage_is_0              make_and_model  \\\n",
       "15709            True        True         False                Nissan_Micra   \n",
       "15579           False       False         False                Toyota_Yaris   \n",
       "3720            False       False          True                     Audi_A3   \n",
       "4323            False       False          True     Mercedes-benz_CLA Class   \n",
       "7749            False       False          True               Suzuki_Vitara   \n",
       "13099           False       False          True                  Ford_Focus   \n",
       "14441           False       False          True                  Opel_Astra   \n",
       "14442           False       False          True                Kia_Sportage   \n",
       "14882           False       False          True  Land_ROVER Discovery Sport   \n",
       "15153           False       False          True              Toyota_Avensis   \n",
       "16449           False       False          True             Volkswagen_Golf   \n",
       "\n",
       "       mile_per_year  tag  \n",
       "15709        584.375  0.0  \n",
       "15579        418.750  2.0  \n",
       "3720           0.000  2.0  \n",
       "4323           0.000  0.0  \n",
       "7749           0.000  2.0  \n",
       "13099          0.000  2.0  \n",
       "14441          0.000  0.0  \n",
       "14442          0.000  0.0  \n",
       "14882          0.000  2.0  \n",
       "15153          0.000  2.0  \n",
       "16449          0.000  0.0  \n",
       "\n",
       "[11 rows x 29 columns]"
      ]
     },
     "execution_count": 168,
     "metadata": {},
     "output_type": "execute_result"
    }
   ],
   "source": [
    "carData[(carData['age']==7) & (carData['mile_per_year']<=1000)].sort_values(by='mile_per_year', ascending=False)"
   ]
  },
  {
   "cell_type": "code",
   "execution_count": 178,
   "id": "3d502e8e",
   "metadata": {},
   "outputs": [
    {
     "data": {
      "text/plain": [
       "<AxesSubplot:xlabel='age', ylabel='mile_per_year'>"
      ]
     },
     "execution_count": 178,
     "metadata": {},
     "output_type": "execute_result"
    },
    {
     "data": {
      "image/png": "[encoded data removed]",
      "text/plain": [
       "<Figure size 432x288 with 1 Axes>"
      ]
     },
     "metadata": {
      "needs_background": "light"
     },
     "output_type": "display_data"
    }
   ],
   "source": [
    "sns.scatterplot(data=carData[(carData['age']>1) & (carData['mile_per_year']<5000)], x='age', y='mile_per_year')"
   ]
  },
  {
   "cell_type": "code",
   "execution_count": 158,
   "id": "ef0808c3",
   "metadata": {},
   "outputs": [],
   "source": [
    "std = carData.groupby(by='age')['mile_per_year'].std()\n",
    "mean = carData.groupby(by='age')['mile_per_year'].mean()\n"
   ]
  },
  {
   "cell_type": "code",
   "execution_count": 111,
   "id": "e51a4c1c",
   "metadata": {},
   "outputs": [],
   "source": [
    "carData['mile_per_year'] = carData['mileage']/(carData['age']+1)"
   ]
  },
  {
   "cell_type": "code",
   "execution_count": 113,
   "id": "87eb7259",
   "metadata": {},
   "outputs": [
    {
     "data": {
      "text/plain": [
       "<seaborn.axisgrid.FacetGrid at 0x214c8ea7d30>"
      ]
     },
     "execution_count": 113,
     "metadata": {},
     "output_type": "execute_result"
    },
    {
     "data": {
      "image/png": "[encoded data removed]",
      "text/plain": [
       "<Figure size 360x360 with 1 Axes>"
      ]
     },
     "metadata": {
      "needs_background": "light"
     },
     "output_type": "display_data"
    }
   ],
   "source": [
    "sns.displot(data=carData[(carData['make']=='Seat') & (carData['model']=='Leon') & (carData['age']>1)], x='mile_per_year')"
   ]
  },
  {
   "cell_type": "code",
   "execution_count": null,
   "id": "665b7696",
   "metadata": {},
   "outputs": [],
   "source": [
    "carData[(carData['make']=='Seat') & (carData['model']=='Leon')"
   ]
  }
 ],
 "metadata": {
  "kernelspec": {
   "display_name": "Python 3 (ipykernel)",
   "language": "python",
   "name": "python3"
  },
  "language_info": {
   "codemirror_mode": {
    "name": "ipython",
    "version": 3
   },
   "file_extension": ".py",
   "mimetype": "text/x-python",
   "name": "python",
   "nbconvert_exporter": "python",
   "pygments_lexer": "ipython3",
   "version": "3.9.12"
  }
 },
 "nbformat": 4,
 "nbformat_minor": 5
}
