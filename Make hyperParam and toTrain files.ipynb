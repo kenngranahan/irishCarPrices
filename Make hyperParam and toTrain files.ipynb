{
 "cells": [
  {
   "cell_type": "code",
   "execution_count": 2,
   "id": "301656c0",
   "metadata": {},
   "outputs": [],
   "source": [
    "import pandas as pd\n",
    "from pathlib import Path\n",
    "import json\n",
    "\n",
    "from math import log\n",
    "from numpy import random\n",
    "from datetime import date"
   ]
  },
  {
   "cell_type": "code",
   "execution_count": 5,
   "id": "137c6fab",
   "metadata": {},
   "outputs": [],
   "source": [
    "def getDistinctMakes(carData):\n",
    "    makes=[]\n",
    "    for make in carData[['make', 'model']].values:\n",
    "        if tuple(make) not in makes:\n",
    "            makes.append(tuple(make))\n",
    "    return makes"
   ]
  },
  {
   "cell_type": "code",
   "execution_count": 60,
   "id": "5f684dcf",
   "metadata": {},
   "outputs": [],
   "source": [
    "path = Path.cwd()\n",
    "path = path.joinpath('Models')\n",
    "\n",
    "modelPaths = list(path.glob('*'))\n",
    "model = 'HuberRegressor_202209131836'\n",
    "\n",
    "testResults = pd.DataFrame()\n",
    "CVResults = pd.DataFrame()\n",
    "for modelPath in modelPaths:\n",
    "    if modelPath.stem == model:\n",
    "\n",
    "        testPath = modelPath.joinpath('testResults.csv')\n",
    "        testResult = pd.read_csv(str(testPath))\n",
    "\n",
    "        CVPath = modelPath.joinpath('CV.csv')\n",
    "        CVResult = pd.read_csv(str(CVPath))\n",
    "\n",
    "        CFGPath = modelPath.joinpath('CFG.txt')\n",
    "        CFG = {}\n",
    "        with CFGPath.open() as f:\n",
    "            CFG = json.loads(f.read())\n",
    "        for key in CFG:\n",
    "            testResult[key] = str(CFG[key])\n",
    "            if key=='notes':\n",
    "                CVResult[key] = str(CFG[key])\n",
    "\n",
    "\n",
    "        if len(testResults)==0:\n",
    "            testResults = testResult.copy()\n",
    "            CVResults = CVResult.copy()\n",
    "        else:\n",
    "            testResults = pd.concat([testResults, testResult])\n",
    "            CVResults = pd.concat([CVResults, CVResult])\n"
   ]
  },
  {
   "cell_type": "code",
   "execution_count": 40,
   "id": "e16e9d1f",
   "metadata": {},
   "outputs": [],
   "source": [
    "makeModel = getDistinctMakes(testResult)"
   ]
  },
  {
   "cell_type": "code",
   "execution_count": 56,
   "id": "2ca0aec3",
   "metadata": {},
   "outputs": [],
   "source": [
    "alphas = {}\n",
    "for make in testResult['make'].unique():\n",
    "    alphas[make]={}\n",
    "    for model in testResult['model'].unique():\n",
    "        view = testResult[(testResult['make']==make) & (testResult['model']==model)]\n",
    "        if len(view)>0:\n",
    "            value = view['alpha'].max()\n",
    "            values = [value + eps/10 for eps in range(-10, 11) if value+eps/10 >=0]\n",
    "            alphas[make][model] = values\n",
    "alphas = {'alpha': alphas}"
   ]
  },
  {
   "cell_type": "code",
   "execution_count": 57,
   "id": "c7479916",
   "metadata": {},
   "outputs": [],
   "source": [
    "with open('alpha.txt', 'w') as f:\n",
    "    f.write(json.dumps(alphas))"
   ]
  },
  {
   "cell_type": "code",
   "execution_count": 59,
   "id": "970405ef",
   "metadata": {},
   "outputs": [],
   "source": [
    "with open('toTrain.txt', 'w') as f:\n",
    "    f.write(json.dumps([('Seat', 'Leon')]))\n"
   ]
  },
  {
   "cell_type": "code",
   "execution_count": null,
   "id": "2408ed95",
   "metadata": {},
   "outputs": [],
   "source": []
  }
 ],
 "metadata": {
  "kernelspec": {
   "display_name": "Python 3 (ipykernel)",
   "language": "python",
   "name": "python3"
  },
  "language_info": {
   "codemirror_mode": {
    "name": "ipython",
    "version": 3
   },
   "file_extension": ".py",
   "mimetype": "text/x-python",
   "name": "python",
   "nbconvert_exporter": "python",
   "pygments_lexer": "ipython3",
   "version": "3.9.12"
  }
 },
 "nbformat": 4,
 "nbformat_minor": 5
}
