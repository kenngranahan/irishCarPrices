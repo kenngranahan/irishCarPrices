{
 "cells": [
  {
   "cell_type": "code",
   "execution_count": 29,
   "id": "fd588ef4",
   "metadata": {},
   "outputs": [],
   "source": [
    "import json\n",
    "import requests\n",
    "import time\n",
    "from tqdm import tqdm"
   ]
  },
  {
   "cell_type": "code",
   "execution_count": 28,
   "id": "d022c2c5",
   "metadata": {},
   "outputs": [
    {
     "name": "stdout",
     "output_type": "stream",
     "text": [
      "False\n"
     ]
    }
   ],
   "source": [
    "id_search_space = range(2932519, 2973790)\n",
    "\n",
    "for page_id in tqdm(id_search_space):\n",
    "    output_file = 'scraped_data/page'+str(page_id)+'.txt'\n",
    "\n",
    "    website_response = requests.request('GET', 'https://www.carsireland.ie/'+str(page_id))\n",
    "    html_source_code = website_response.text\n",
    "    website_response.close()\n",
    "    \n",
    "    is_empty = ('<h2>Sorry, we can\\'t find the page you are looking for.</h2>' in html_source_code)\n",
    "    if not is_empty:\n",
    "        html_source_code = html_source_code.split('<div class=\"vehicle__information--desktop vehicle__information\">')[-1]\n",
    "        html_source_code = html_source_code.replace('\\n', '').replace(' ', '')\n",
    "        html_source_code = html_source_code.split('</div>')\n",
    "        html_source_code = parse_html_source_code(html_source_code)\n",
    "        \n",
    "        with open(output_file, 'w') as f:\n",
    "            f.write(json.dumps(html_source_code))\n",
    "    \n",
    "    time.sleep(3)"
   ]
  },
  {
   "cell_type": "code",
   "execution_count": 27,
   "id": "3e2a8a45",
   "metadata": {},
   "outputs": [],
   "source": [
    "\n",
    "def parse_html_source_code(html_source_code):\n",
    "    attribute_tag = {'dealer': [0, '<divclass=\"vehicle__information-dealer\">', '\\n'],\n",
    "                     'location':[1, '<divclass=\"vehicle__information-location\">', '\\n'],\n",
    "                     'vehicle': [3, '<divclass=\"vehicle__information-details\"><divclass=\"vehicle__information-details-about\"><h1class=\"vehicle__title\">',\n",
    "                                '</h1>'],\n",
    "                     'year': [3, 'spanclass=\"vehicle__information-details-about-year\">', '</span>'],\n",
    "                     'mileage': [3, '<divclass=\"vehicle__information-details-about-mileage\">', '\\n'],\n",
    "                     'last_updated': [4, '<divclass=\"vehicle__information-details-about-update\">', '\\n'],\n",
    "                     'price': [6, '<divclass=\"vehicle__information-details-pricing\"><h3class=\"visually-hidden\">Price</h3><p>','</p>'],\n",
    "                     'type':[9, '</svg></span>', '\\n'],\n",
    "                     'engine': [10, '</svg></span>','\\n'],\n",
    "                     'body': [11, '</svg></span>', '\\n'],\n",
    "                     'fuel': [12, '</svg></span>', '\\n'],\n",
    "                     'doors': [13, '</svg></span>', '\\n'],\n",
    "                     'mpg': [14, '</svg></span>', '\\n'],\n",
    "                     'owners': [15, '</svg></span>', '\\n'],\n",
    "                     'color': [16, '</svg></span>','\\n'],\n",
    "                     'tax': [17, '</svg></span>', '\\n'],\n",
    "                     'nct': [18, '</svg></span>', '\\n']\n",
    "                      }\n",
    "\n",
    "    data_points = {}\n",
    "    for attribute in attribute_tag:\n",
    "        data_points[attribute] = []\n",
    "\n",
    "    for attribute, tag in attribute_tag.items():\n",
    "        data_point = html_source_code[tag[0]].split(tag[1])[-1].split(tag[2])[0]\n",
    "        data_points[attribute].append(data_point)\n",
    "    \n",
    "    return data_points"
   ]
  },
  {
   "cell_type": "code",
   "execution_count": null,
   "id": "89f7b554",
   "metadata": {},
   "outputs": [],
   "source": []
  }
 ],
 "metadata": {
  "kernelspec": {
   "display_name": "Python 3 (ipykernel)",
   "language": "python",
   "name": "python3"
  },
  "language_info": {
   "codemirror_mode": {
    "name": "ipython",
    "version": 3
   },
   "file_extension": ".py",
   "mimetype": "text/x-python",
   "name": "python",
   "nbconvert_exporter": "python",
   "pygments_lexer": "ipython3",
   "version": "3.7.6"
  }
 },
 "nbformat": 4,
 "nbformat_minor": 5
}
