{
 "cells": [
  {
   "cell_type": "code",
   "execution_count": 1,
   "id": "efd94d04",
   "metadata": {},
   "outputs": [
    {
     "ename": "NameError",
     "evalue": "name 'carData' is not defined",
     "output_type": "error",
     "traceback": [
      "\u001b[1;31m---------------------------------------------------------------------------\u001b[0m",
      "\u001b[1;31mNameError\u001b[0m                                 Traceback (most recent call last)",
      "Input \u001b[1;32mIn [1]\u001b[0m, in \u001b[0;36m<cell line: 1>\u001b[1;34m()\u001b[0m\n\u001b[1;32m----> 1\u001b[0m sampleSizes \u001b[38;5;241m=\u001b[39m \u001b[43mcarData\u001b[49m\u001b[38;5;241m.\u001b[39mgroupby(by\u001b[38;5;241m=\u001b[39m[\u001b[38;5;124m'\u001b[39m\u001b[38;5;124mmake\u001b[39m\u001b[38;5;124m'\u001b[39m, \u001b[38;5;124m'\u001b[39m\u001b[38;5;124mmodel\u001b[39m\u001b[38;5;124m'\u001b[39m])\u001b[38;5;241m.\u001b[39mcount()[\u001b[38;5;124m'\u001b[39m\u001b[38;5;124mmileage\u001b[39m\u001b[38;5;124m'\u001b[39m]\n\u001b[0;32m      2\u001b[0m sampleSizes \u001b[38;5;241m=\u001b[39m sampleSizes\u001b[38;5;241m.\u001b[39mrename(\u001b[38;5;124m'\u001b[39m\u001b[38;5;124msample_size\u001b[39m\u001b[38;5;124m'\u001b[39m)\n\u001b[0;32m      3\u001b[0m \u001b[38;5;28;01mdef\u001b[39;00m \u001b[38;5;21mprintSize\u001b[39m(sampleSizes, make, model):\n",
      "\u001b[1;31mNameError\u001b[0m: name 'carData' is not defined"
     ]
    }
   ],
   "source": [
    "sampleSizes = carData.groupby(by=['make', 'model']).count()['mileage']\n",
    "sampleSizes = sampleSizes.rename('sample_size')\n",
    "def printSize(sampleSizes, make, model):\n",
    "    sampleSize = sampleSizes[make][model]\n",
    "    print('Train Size: {}'.format(sampleSize*0.7))\n",
    "    print('CV Train Size: {}'.format(sampleSize*0.7*0.8))\n",
    "    print('CV Test Size: {}'.format(sampleSize*0.7*0.2))\n",
    "    print('Test Size: {}'.format(sampleSize*0.3))\n",
    "    \n",
    "ridgeTest = ridgeTest.merge(right= sampleSizes.reset_index(), left_on = ['make', 'model'], right_on = ['make', 'model'])\n",
    "printSize(sampleSizes, 'Opel', 'Grandland X')"
   ]
  },
  {
   "cell_type": "code",
   "execution_count": 2,
   "id": "5f84b481",
   "metadata": {},
   "outputs": [],
   "source": [
    "import pandas as pd\n",
    "import seaborn as sns\n",
    "import matplotlib.pyplot as plt\n",
    "from pathlib import Path\n",
    "import json\n",
    "from sklearn.metrics import mean_squared_error\n",
    "\n",
    "from math import log\n",
    "from numpy import random\n",
    "from datetime import date"
   ]
  },
  {
   "cell_type": "code",
   "execution_count": 3,
   "id": "1d53bf2a",
   "metadata": {},
   "outputs": [
    {
     "data": {
      "text/plain": [
       "{'Try HuberRegressor': 0.03954661722614806,\n",
       " 'Try HuberRegressor again': 0.039556823479542744,\n",
       " 'HuberRegressor: Exclude rescaling and PCA': 3.8600958398722804,\n",
       " 'HuberRegressor: Exclude PCA': 0.026211098008816103,\n",
       " 'HuberRegressor: Exclude PCA and selector': 0.026118153165802096,\n",
       " 'HuberRegressor: Exclude PCA. Increase Alpha search space': 0.024297236678244342,\n",
       " 'HuberRegressor: Exclude PCA. Increase Alpha search space again': 0.030812216995938314,\n",
       " 'HuberRegressor: With Final alpha range': 0.02372206927788935,\n",
       " 'HuberRegressor: Check alpha range 0 to 1': 0.02818712759978495,\n",
       " 'HuberRegressor: Check alpha range 0 to 300': 0.023721241764972027,\n",
       " 'HuberRegressor: Alpha to 1st decimal place': 0.023543374202374696,\n",
       " 'HuberRegressor: Introduce a cutoff for annual mileage with new alpha search. Test Seat Leon': 0.4928884506210756,\n",
       " 'HuberRegressor: Introduce PCA. Test Seat Leon': 0.030487839029640137,\n",
       " 'HuberRegressor: Re-Introduce PCA. Train All': 0.02687114808205135,\n",
       " 'HuberRegressor: Re-Introduce PCA. Remove NCT': 0.025444136881539566,\n",
       " 'HuberRegressor: Re-Introduce PCA. Remove NCT and fuel': 0.025425896108652025}"
      ]
     },
     "execution_count": 3,
     "metadata": {},
     "output_type": "execute_result"
    }
   ],
   "source": [
    "path = Path.cwd()\n",
    "path = path.joinpath('Models')\n",
    "\n",
    "modelPaths = list(path.glob('*'))\n",
    "\n",
    "testResults = pd.DataFrame()\n",
    "CVResults = pd.DataFrame()\n",
    "for modelPath in modelPaths:\n",
    "    if modelPath.stem.split('_')[0] == 'HuberRegressor':\n",
    "\n",
    "        testPath = modelPath.joinpath('testResults.csv')\n",
    "        testResult = pd.read_csv(str(testPath))\n",
    "\n",
    "        CVPath = modelPath.joinpath('CV.csv')\n",
    "        CVResult = pd.read_csv(str(CVPath))\n",
    "\n",
    "        CFGPath = modelPath.joinpath('CFG.txt')\n",
    "        CFG = {}\n",
    "        with CFGPath.open() as f:\n",
    "            CFG = json.loads(f.read())\n",
    "        for key in CFG:\n",
    "            testResult[key] = str(CFG[key])\n",
    "            if key=='notes':\n",
    "                CVResult[key] = str(CFG[key])\n",
    "\n",
    "\n",
    "        if len(testResults)==0:\n",
    "            testResults = testResult.copy()\n",
    "            CVResults = CVResult.copy()\n",
    "        else:\n",
    "            testResults = pd.concat([testResults, testResult])\n",
    "            CVResults = pd.concat([CVResults, CVResult])\n",
    "\n",
    "MSE = {}\n",
    "for note in testResults['notes'].unique():\n",
    "    testResult = testResults[testResults['notes']==note]\n",
    "    MSE[note] = mean_squared_error(testResult['true'], testResult['predict']) \n",
    "MSE "
   ]
  },
  {
   "cell_type": "code",
   "execution_count": 4,
   "id": "bc3421c3",
   "metadata": {},
   "outputs": [
    {
     "name": "stderr",
     "output_type": "stream",
     "text": [
      "C:\\Users\\User\\AppData\\Local\\Temp\\ipykernel_12012\\191351296.py:4: SettingWithCopyWarning: \n",
      "A value is trying to be set on a copy of a slice from a DataFrame.\n",
      "Try using .loc[row_indexer,col_indexer] = value instead\n",
      "\n",
      "See the caveats in the documentation: https://pandas.pydata.org/pandas-docs/stable/user_guide/indexing.html#returning-a-view-versus-a-copy\n",
      "  bestResults['make_and_model'] = bestResults['make']+'_'+bestResults['model']\n"
     ]
    }
   ],
   "source": [
    "note = 'HuberRegressor: Re-Introduce PCA. Remove NCT and fuel'\n",
    "bestFeaturesCV = CVResults[CVResults['notes']== note]\n",
    "bestResults = testResults[testResults['notes']== note]\n",
    "bestResults['make_and_model'] = bestResults['make']+'_'+bestResults['model']"
   ]
  },
  {
   "cell_type": "code",
   "execution_count": 18,
   "id": "77d3a4ab",
   "metadata": {},
   "outputs": [],
   "source": [
    "scores = bestResults.groupby(by='make_and_model')['score'].max()"
   ]
  },
  {
   "cell_type": "code",
   "execution_count": 19,
   "id": "ae16988b",
   "metadata": {},
   "outputs": [
    {
     "data": {
      "text/plain": [
       "<seaborn.axisgrid.FacetGrid at 0x23fa08fd3d0>"
      ]
     },
     "execution_count": 19,
     "metadata": {},
     "output_type": "execute_result"
    },
    {
     "data": {
      "image/png": "[encoded data removed]",
      "text/plain": [
       "<Figure size 360x360 with 1 Axes>"
      ]
     },
     "metadata": {
      "needs_background": "light"
     },
     "output_type": "display_data"
    }
   ],
   "source": [
    "sns.displot(scores)"
   ]
  },
  {
   "cell_type": "code",
   "execution_count": 21,
   "id": "895e4a72",
   "metadata": {},
   "outputs": [],
   "source": [
    "toTrain = []\n",
    "for car in scores[scores<-0.025].index:\n",
    "    make = car.split('_')[0]\n",
    "    model = car.split('_')[1]\n",
    "    toTrain.append((make,model))"
   ]
  },
  {
   "cell_type": "code",
   "execution_count": 22,
   "id": "63593b06",
   "metadata": {},
   "outputs": [
    {
     "data": {
      "text/plain": [
       "[('Audi', 'Q5'),\n",
       " ('Bmw', '1 Series'),\n",
       " ('Bmw', '3 Series'),\n",
       " ('Bmw', '7 Series'),\n",
       " ('Bmw', 'X5'),\n",
       " ('Citroen', 'Grand C4 Picasso'),\n",
       " ('Fiat', '500'),\n",
       " ('Ford', 'Focus'),\n",
       " ('Ford', 'Mondeo'),\n",
       " ('Ford', 'Ranger'),\n",
       " ('Ford', 'S-Max'),\n",
       " ('Ford', 'Transit'),\n",
       " ('Ford', 'Transit Connect'),\n",
       " ('Ford', 'Transit Custom'),\n",
       " ('Honda', 'Civic'),\n",
       " ('Hyundai', 'Santa Fe'),\n",
       " ('Hyundai', 'i30'),\n",
       " ('Kia', 'Ceed'),\n",
       " ('Kia', 'Rio'),\n",
       " ('Kia', 'Sorento'),\n",
       " ('Land', 'ROVER Discovery'),\n",
       " ('Land', 'ROVER Range Rover Sport'),\n",
       " ('Mazda', 'Mazda2'),\n",
       " ('Mazda', 'Mazda3'),\n",
       " ('Mercedes-benz', 'A Class'),\n",
       " ('Mini', 'Hatch'),\n",
       " ('Nissan', 'Micra'),\n",
       " ('Opel', 'Insignia'),\n",
       " ('Peugeot', '308'),\n",
       " ('Peugeot', '5008'),\n",
       " ('Peugeot', 'Partner'),\n",
       " ('Renault', 'Megane'),\n",
       " ('Renault', 'Trafic'),\n",
       " ('Seat', 'Ibiza'),\n",
       " ('Seat', 'Leon'),\n",
       " ('Suzuki', 'Swift'),\n",
       " ('Toyota', 'Avensis'),\n",
       " ('Toyota', 'Corolla'),\n",
       " ('Toyota', 'Hilux'),\n",
       " ('Toyota', 'Landcruiser'),\n",
       " ('Volkswagen', 'Caddy'),\n",
       " ('Volkswagen', 'Touareg'),\n",
       " ('Volvo', 'XC90')]"
      ]
     },
     "execution_count": 22,
     "metadata": {},
     "output_type": "execute_result"
    }
   ],
   "source": [
    "with open('toTrain.txt', 'w') as f:\n",
    "    f.write(json.dumps(toTrain))"
   ]
  },
  {
   "cell_type": "code",
   "execution_count": 29,
   "id": "bfcd4df8",
   "metadata": {},
   "outputs": [
    {
     "data": {
      "text/plain": [
       "0.025425896108652025"
      ]
     },
     "execution_count": 29,
     "metadata": {},
     "output_type": "execute_result"
    }
   ],
   "source": [
    "mean_squared_error(data['true'], data['predict']) "
   ]
  }
 ],
 "metadata": {
  "kernelspec": {
   "display_name": "Python 3 (ipykernel)",
   "language": "python",
   "name": "python3"
  },
  "language_info": {
   "codemirror_mode": {
    "name": "ipython",
    "version": 3
   },
   "file_extension": ".py",
   "mimetype": "text/x-python",
   "name": "python",
   "nbconvert_exporter": "python",
   "pygments_lexer": "ipython3",
   "version": "3.9.12"
  }
 },
 "nbformat": 4,
 "nbformat_minor": 5
}
