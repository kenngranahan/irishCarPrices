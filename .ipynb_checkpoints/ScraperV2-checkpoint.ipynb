{
 "cells": [
  {
   "cell_type": "code",
   "execution_count": 1,
   "id": "fd588ef4",
   "metadata": {},
   "outputs": [],
   "source": [
    "import json\n",
    "import requests\n",
    "import time\n",
    "from tqdm import tqdm\n",
    "from sys import getsizeof"
   ]
  },
  {
   "cell_type": "code",
   "execution_count": 5,
   "id": "d022c2c5",
   "metadata": {},
   "outputs": [
    {
     "name": "stderr",
     "output_type": "stream",
     "text": [
      "100%|█████████████████████████████████████████████████████████████████████████| 17167/17167 [10:40:06<00:00,  2.24s/it]\n"
     ]
    }
   ],
   "source": [
    "id_search_space = range(2956624, 2973791)\n",
    "\n",
    "for page_id in tqdm(id_search_space):\n",
    "    output_file = 'scraped_data/page'+str(page_id)+'.txt'\n",
    "\n",
    "    website_response = requests.request('GET', 'https://www.carsireland.ie/'+str(page_id))\n",
    "    website_response.encoding = 'utf-8'\n",
    "    html_source_code = website_response.text\n",
    "    website_response.close()\n",
    "\n",
    "    is_empty = ('<h2>Sorry, we can\\'t find the page you are looking for.</h2>' in html_source_code)\n",
    "    if not is_empty:\n",
    "        html_source_code = html_source_code.split('<div class=\"vehicle__information--desktop vehicle__information\">')[-1]\n",
    "        html_source_code = html_source_code.replace('\\n', '').replace(' ', '')\n",
    "        html_source_code = html_source_code.split('</div>')\n",
    "        html_source_code = parse_html_source_code(html_source_code)\n",
    "        \n",
    "        if getsizeof(html_source_code) < 8000:\n",
    "            with open(output_file, 'w') as f:\n",
    "                f.write(json.dumps(html_source_code))"
   ]
  },
  {
   "cell_type": "code",
   "execution_count": 12,
   "id": "3e2a8a45",
   "metadata": {},
   "outputs": [],
   "source": [
    "\n",
    "def parse_html_source_code(html_source_code):\n",
    "    attribute_tag = {'dealer': [0, '<divclass=\"vehicle__information-dealer\">', '\\n'],\n",
    "                     'location':[1, '<divclass=\"vehicle__information-location\">', '\\n'],\n",
    "                     'vehicle': [3, '<divclass=\"vehicle__information-details\"><divclass=\"vehicle__information-details-about\"><h1class=\"vehicle__title\">',\n",
    "                                '</h1>'],\n",
    "                     'year': [3, 'spanclass=\"vehicle__information-details-about-year\">', '</span>'],\n",
    "                     'mileage': [3, '<divclass=\"vehicle__information-details-about-mileage\">', '\\n'],\n",
    "                     'last_updated': [4, '<divclass=\"vehicle__information-details-about-update\">', '\\n'],\n",
    "                     'price': [6, '<divclass=\"vehicle__information-details-pricing\"><h3class=\"visually-hidden\">Price</h3><p>','</p>'],\n",
    "                     'type':[9, '</svg></span>', '\\n'],\n",
    "                     'engine': [10, '</svg></span>','\\n'],\n",
    "                     'body': [11, '</svg></span>', '\\n'],\n",
    "                     'fuel': [12, '</svg></span>', '\\n'],\n",
    "                     'doors': [13, '</svg></span>', '\\n'],\n",
    "                     'mpg': [14, '</svg></span>', '\\n'],\n",
    "                     'owners': [15, '</svg></span>', '\\n'],\n",
    "                     'color': [16, '</svg></span>','\\n'],\n",
    "                     'tax': [17, '</svg></span>', '\\n'],\n",
    "                     'nct': [18, '</svg></span>', '\\n']\n",
    "                      }\n",
    "    \n",
    "    \n",
    "    data_points = {}\n",
    "    for attribute in attribute_tag:\n",
    "        data_points[attribute] = []\n",
    "\n",
    "    for attribute, tag in attribute_tag.items():\n",
    "        data_point = html_source_code[tag[0]]\n",
    "        data_point = data_point.split(tag[1])[-1]\n",
    "        data_point = data_point.split(tag[2])[0]\n",
    "        data_points[attribute].append(data_point)\n",
    "    \n",
    "    return data_points"
   ]
  },
  {
   "cell_type": "code",
   "execution_count": 31,
   "id": "e655ac62",
   "metadata": {},
   "outputs": [],
   "source": [
    "website_response = requests.request('GET', 'https://www.carsireland.ie/2968629')\n",
    "website_response.encoding = 'utf-8'\n",
    "html_source_code = website_response.text\n",
    "website_response.close()"
   ]
  },
  {
   "cell_type": "code",
   "execution_count": 34,
   "id": "20a6aedc",
   "metadata": {},
   "outputs": [
    {
     "data": {
      "text/plain": [
       "{'dealer': 'WaterfordMotorVillage',\n",
       " 'location': '',\n",
       " 'vehicle': 'information-location\">Waterford</div></div><divclass=\"vehicle__information-details\"><divclass=\"vehicle__information-details-about\"><h1class=\"vehicle__title\">MERCEDES-BENZEClass',\n",
       " 'year': 'nformation-details-about-year\">2012',\n",
       " 'mileage': 'leage\">196,910km',\n",
       " 'last_updated': '',\n",
       " 'price': 'tails-about-update\">Updated:1minuteago</div></div><divclass=\"vehicle__information-details-pricing\"><h3class=\"visually-hidden\">Price</h3><p>€17,495',\n",
       " 'transmission': '',\n",
       " 'engine': '',\n",
       " 'body': '',\n",
       " 'fuel': '',\n",
       " 'doors': '',\n",
       " 'mpg': '',\n",
       " 'owners': '',\n",
       " 'color': '',\n",
       " 'tax': '',\n",
       " 'nct': ''}"
      ]
     },
     "execution_count": 34,
     "metadata": {},
     "output_type": "execute_result"
    }
   ],
   "source": [
    "remove_all_before_this_tag = '<div class=\"vehicle__information-dealer\">'\n",
    "remove_all_after_this_tag = '<div class=\"vehicle__share\">'\n",
    "\n",
    "\n",
    "\n",
    "\n",
    "remove_all_before_this_idx = html_source_code.find(remove_all_before_this_tag)\n",
    "remove_all_after_this_idx = html_source_code.find(remove_all_after_this_tag)\n",
    "\n",
    "\n",
    "html_source_code = html_source_code[:remove_all_after_this_idx][remove_all_before_this_idx:]\n",
    "def remove_text_between_tags(text, start_tag, end_tag):\n",
    "    start_idx = text.find(start_tag)\n",
    "    if start_idx == -1:\n",
    "        return -1\n",
    "    end_idx = text[start_idx:].find(end_tag)\n",
    "    end_idx += start_idx\n",
    "    return text[:start_idx] + text[end_idx:]\n",
    "\n",
    "# def get_text_between_tags(text, start_tag, end_tag):\n",
    "#     start_len = len(start_tag)\n",
    "#     end_len = len(end_tag)\n",
    "    \n",
    "#     start_idx = text.find(start_tag)\n",
    "#     if start_idx == -1:\n",
    "#         return start_idx\n",
    "#     start_idx+=start_len\n",
    "#     end_idx = text[start_idx:].find(end_tag)\n",
    "#     return text[:start_idx][]\n",
    "    \n",
    "\n",
    "    \n",
    "    \n",
    "    \n",
    "    \n",
    "html_source_code = remove_text_between_tags(cut_text,\n",
    "                                         '<div class=\"vehicle__information-details-save save-ad\">',\n",
    "                                        '<div class=\"vehicle__information-technical\">')\n",
    "result = html_source_code \n",
    "while (result!=-1):\n",
    "    html_source_code = result\n",
    "    result = remove_text_between_tags(html_source_code, \n",
    "                                      '<span class=\"vehicle__information-technical-item-icon\">', \n",
    "                                      '</span>')\n",
    "html_source_code=html_source_code.replace(' ', '').replace('\\n', '')\n",
    "x= html_source_code\n",
    "output = {}\n",
    "\n",
    "# for attribute in test:\n",
    "#     start = test[attribute][0]\n",
    "#     end = test[attribute][1]\n",
    "    \n",
    "#     start_len = len(start)\n",
    "    \n",
    "#     start_idx = x.find(start)\n",
    "#     end_idx = x.find(end)\n",
    "    \n",
    "#     output[attribute] = x[start_idx+start_len:end_idx]\n",
    "#     x = x[end_idx:]\n",
    "# output"
   ]
  },
  {
   "cell_type": "code",
   "execution_count": 35,
   "id": "94ff0aac",
   "metadata": {},
   "outputs": [
    {
     "data": {
      "text/plain": [
       "'<divclass=\"vehicle__information-dealer\">WaterfordMotorVillage</div><divclass=\"vehicle__information-location\">Waterford</div></div><divclass=\"vehicle__information-details\"><divclass=\"vehicle__information-details-about\"><h1class=\"vehicle__title\">MERCEDES-BENZEClass</h1><p>E220CDISPORT2DRAUTO</p><spanclass=\"vehicle__information-details-about-year\">2012</span><divclass=\"vehicle__information-details-about-mileage\">196,910km</div><divclass=\"vehicle__information-details-about-update\">Updated:1minuteago</div></div><divclass=\"vehicle__information-details-pricing\"><h3class=\"visually-hidden\">Price</h3><p>€17,495</p></div><divclass=\"vehicle__information-technical\"><divclass=\"vehicle__information-technical-item\"></span>Automatic</div><divclass=\"vehicle__information-technical-item\"></span>2.1L</div><divclass=\"vehicle__information-technical-item\"></span>Convertible</div><divclass=\"vehicle__information-technical-item\"></span>Diesel</div><divclass=\"vehicle__information-technical-item\"></span>2Doors</div><divclass=\"vehicle__information-technical-item\"></span>44mpg</div><divclass=\"vehicle__information-technical-item\"></span>2Owners</div><divclass=\"vehicle__information-technical-item\"></span>Silver</div><divclass=\"vehicle__information-technical-item\"></span>€400</div><divclass=\"vehicle__information-technical-item\"></span>NCTOctober2022</div></div>'"
      ]
     },
     "execution_count": 35,
     "metadata": {},
     "output_type": "execute_result"
    }
   ],
   "source": [
    "html_source_code"
   ]
  },
  {
   "cell_type": "code",
   "execution_count": null,
   "id": "844990e9",
   "metadata": {},
   "outputs": [],
   "source": [
    "test = {'dealer': ['<divclass=\"vehicle__information-dealer\">','</div>'],\n",
    " 'location':['<divclass=\"vehicle__information-location\">', '</div>'],\n",
    " 'vehicle': ['<h1class=\"vehicle__title\">', '</h1>'],\n",
    " 'year': ['<spanclass=\"vehicle__information-details-about-year\">', '</span>'],\n",
    " 'mileage': ['<divclass=\"vehicle__information-details-about-mileage\">', '</div>'],\n",
    " 'last_updated': ['<divclass=\"vehicle__information-details-about-update\">', '</div>'],\n",
    " 'price': ['<h3class=\"visually-hidden\">Price</h3><p>', '</p>'],\n",
    " 'transmission':['</span>', '</div>'],\n",
    " 'engine': ['</span>', '</div>'],\n",
    " 'body': ['</span>', '</div>'],\n",
    " 'fuel': ['</span>', '</div>'],\n",
    " 'doors': ['</span>', '</div>'],\n",
    " 'mpg': ['</span>', '</div>'],\n",
    " 'owners': ['</span>', '</div>'],\n",
    " 'color': ['</span>', '</div>'],\n",
    " 'tax': ['</span>', '</div>'],\n",
    " 'nct': ['</span>', '</div>']\n",
    "  }"
   ]
  }
 ],
 "metadata": {
  "kernelspec": {
   "display_name": "Python 3 (ipykernel)",
   "language": "python",
   "name": "python3"
  },
  "language_info": {
   "codemirror_mode": {
    "name": "ipython",
    "version": 3
   },
   "file_extension": ".py",
   "mimetype": "text/x-python",
   "name": "python",
   "nbconvert_exporter": "python",
   "pygments_lexer": "ipython3",
   "version": "3.7.6"
  }
 },
 "nbformat": 4,
 "nbformat_minor": 5
}
